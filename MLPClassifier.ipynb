{
 "cells": [
  {
   "cell_type": "code",
   "execution_count": 184,
   "metadata": {
    "collapsed": true
   },
   "outputs": [],
   "source": [
    "import itertools\n",
    "import numpy as np\n",
    "import random as r\n",
    "import matplotlib.pyplot as plt\n",
    "from sklearn import datasets\n",
    "from sklearn.model_selection import train_test_split\n",
    "from sklearn.neural_network import MLPClassifier\n",
    "from sklearn.metrics import confusion_matrix, accuracy_score, classification_report\n",
    "from sklearn.preprocessing import StandardScaler"
   ]
  },
  {
   "cell_type": "markdown",
   "metadata": {},
   "source": [
    "## Functions"
   ]
  },
  {
   "cell_type": "code",
   "execution_count": 185,
   "metadata": {
    "collapsed": true
   },
   "outputs": [],
   "source": [
    "def plot_confusion_matrix(cm, classes,\n",
    "                          normalize=False,\n",
    "                          title='Confusion matrix',\n",
    "                          cmap=plt.cm.Blues):\n",
    "    \"\"\"\n",
    "    This function prints and plots the confusion matrix.\n",
    "    Normalization can be applied by setting `normalize=True`.\n",
    "    \"\"\"\n",
    "    if normalize:\n",
    "        cm = cm.astype('float') / cm.sum(axis=1)[:, np.newaxis]\n",
    "        #print(\"Normalized confusion matrix\")\n",
    "    else:\n",
    "        pass\n",
    "        #print('Confusion matrix, without normalization')\n",
    "\n",
    "    #print(cm)\n",
    "\n",
    "    plt.imshow(cm, interpolation='nearest', cmap=cmap)\n",
    "    plt.title(title)\n",
    "    plt.colorbar()\n",
    "    tick_marks = np.arange(len(classes))\n",
    "    plt.xticks(tick_marks, classes, rotation=45)\n",
    "    plt.yticks(tick_marks, classes)\n",
    "\n",
    "    fmt = '.2f' if normalize else 'd'\n",
    "    thresh = cm.max() / 2.\n",
    "    for i, j in itertools.product(range(cm.shape[0]), range(cm.shape[1])):\n",
    "        plt.text(j, i, format(cm[i, j], fmt),\n",
    "                 horizontalalignment=\"center\",\n",
    "                 color=\"white\" if cm[i, j] > thresh else \"black\")\n",
    "\n",
    "    plt.tight_layout()\n",
    "    plt.ylabel('True label')\n",
    "    plt.xlabel('Predicted label')"
   ]
  },
  {
   "cell_type": "markdown",
   "metadata": {},
   "source": [
    "## Loading Dataset"
   ]
  },
  {
   "cell_type": "code",
   "execution_count": 186,
   "metadata": {},
   "outputs": [],
   "source": [
    "digits = datasets.load_digits()"
   ]
  },
  {
   "cell_type": "markdown",
   "metadata": {},
   "source": [
    "## Preprocessing"
   ]
  },
  {
   "cell_type": "code",
   "execution_count": 187,
   "metadata": {
    "collapsed": true
   },
   "outputs": [],
   "source": [
    "#spliting the dataset in train and test\n",
    "n_samples = len(digits.images)\n",
    "digits.images = data = digits.images.reshape((n_samples, -1))\n",
    "X_train, X_test, y_train, y_test = train_test_split(digits.images, digits.target, test_size=0.3)\n",
    "X_train, X_validation, y_train, y_validation = train_test_split(X_train, y_train, test_size=0.2)\n",
    "\n",
    "#preprocessing data\n",
    "scaler = StandardScaler()\n",
    "scaler.fit(X_train) \n",
    "X_train = scaler.transform(X_train)\n",
    "X_validation = scaler.transform(X_validation)\n",
    "X_test = scaler.transform(X_test)"
   ]
  },
  {
   "cell_type": "markdown",
   "metadata": {},
   "source": [
    "## Training and Validating"
   ]
  },
  {
   "cell_type": "code",
   "execution_count": 189,
   "metadata": {},
   "outputs": [
    {
     "name": "stdout",
     "output_type": "stream",
     "text": [
      "best hyperparameters:\n",
      "\thidden_layer_sizes = 442\n",
      "\tactivation =  tanh\n",
      "\tlearning_rate = adaptive\n",
      "\n",
      "accuracy: 0.960317460317\n"
     ]
    }
   ],
   "source": [
    "TEST_ITER = 2\n",
    "\n",
    "best_model = {'hls': 0, \n",
    "             'act': '',\n",
    "             'lr': '',\n",
    "             'accuracy': 0,\n",
    "             'classifier': None}\n",
    "\n",
    "for i in range(TEST_ITER):\n",
    "    \n",
    "    #choosing hyperparameters(hidden_layer_sizes, activation, learning_rate)\n",
    "    hls = r.randint(100, 1000)\n",
    "    act = r.choice(['identity', 'logistic', 'tanh', 'relu'])\n",
    "    lr = r.choice(['constant', 'invscaling', 'adaptive'])\n",
    "    \n",
    "    #building the classifier\n",
    "    classifier = MLPClassifier(hidden_layer_sizes=hls, \n",
    "                              activation=act, \n",
    "                              learning_rate=lr)\n",
    "    \n",
    "    #training the neural network\n",
    "    classifier.fit(X_train, y_train)\n",
    "    \n",
    "    #validating\n",
    "    y_pred = classifier.predict(X_validation)\n",
    "    \n",
    "    accuracy = accuracy_score(y_validation, y_pred)\n",
    "    if accuracy > best_model['accuracy']:\n",
    "        best_model['hls'] = hls \n",
    "        best_model['act'] = act\n",
    "        best_model['lr'] = lr\n",
    "        best_model['accuracy'] = accuracy\n",
    "        best_model['classifier'] = classifier\n",
    "    \n",
    "    \n",
    "\n",
    "print('best hyperparameters:'\n",
    "      + '\\n\\thidden_layer_sizes = ' + str(best_model['hls'])\n",
    "      + '\\n\\tactivation =  ' + best_model['act']\n",
    "      + '\\n\\tlearning_rate = ' + best_model['lr'])\n",
    "\n",
    "print('\\naccuracy: ' + str(best_model['accuracy']))"
   ]
  },
  {
   "cell_type": "markdown",
   "metadata": {},
   "source": [
    "## Testing"
   ]
  },
  {
   "cell_type": "code",
   "execution_count": 190,
   "metadata": {
    "collapsed": true
   },
   "outputs": [],
   "source": [
    "#predicting\n",
    "classifier = best_model['classifier']\n",
    "y_pred = classifier.predict(X_test)"
   ]
  },
  {
   "cell_type": "markdown",
   "metadata": {},
   "source": [
    "## Metrics of the best model"
   ]
  },
  {
   "cell_type": "markdown",
   "metadata": {},
   "source": [
    "### Confusion matrix"
   ]
  },
  {
   "cell_type": "code",
   "execution_count": 191,
   "metadata": {},
   "outputs": [
    {
     "data": {
      "image/png": "[encoded data removed]",
      "text/plain": [
       "<matplotlib.figure.Figure at 0x7f9284081090>"
      ]
     },
     "metadata": {},
     "output_type": "display_data"
    }
   ],
   "source": [
    "cnf_matrix = confusion_matrix(y_test, y_pred)\n",
    "class_names = digits.target_names\n",
    "np.set_printoptions(precision=2)\n",
    "\n",
    "# Plot non-normalized confusion matrix\n",
    "plt.figure()\n",
    "plot_confusion_matrix(cnf_matrix, classes=class_names,\n",
    "                      title='Confusion matrix, without normalization')\n",
    "plt.show()"
   ]
  },
  {
   "cell_type": "markdown",
   "metadata": {},
   "source": [
    "### Accuracy"
   ]
  },
  {
   "cell_type": "code",
   "execution_count": 192,
   "metadata": {},
   "outputs": [
    {
     "name": "stdout",
     "output_type": "stream",
     "text": [
      "Accuracy score: 0.942592592593 \n"
     ]
    }
   ],
   "source": [
    "print('Accuracy score: %s ' % accuracy_score(y_test, y_pred))"
   ]
  },
  {
   "cell_type": "markdown",
   "metadata": {},
   "source": [
    "### Macro-f1"
   ]
  },
  {
   "cell_type": "code",
   "execution_count": 193,
   "metadata": {},
   "outputs": [
    {
     "name": "stdout",
     "output_type": "stream",
     "text": [
      "             precision    recall  f1-score   support\n",
      "\n",
      "    class 0       1.00      1.00      1.00        49\n",
      "    class 1       0.86      0.98      0.91        49\n",
      "    class 2       0.98      0.98      0.98        47\n",
      "    class 3       0.97      0.89      0.93        72\n",
      "    class 4       0.95      0.98      0.97        57\n",
      "    class 5       0.98      0.92      0.95        59\n",
      "    class 6       1.00      0.98      0.99        59\n",
      "    class 7       0.96      0.98      0.97        56\n",
      "    class 8       0.81      0.85      0.83        46\n",
      "    class 9       0.89      0.87      0.88        46\n",
      "\n",
      "avg / total       0.94      0.94      0.94       540\n",
      "\n"
     ]
    }
   ],
   "source": [
    "target_names = ['class ' + str(name) for name in digits.target_names]\n",
    "print(classification_report(y_test, y_pred, target_names=target_names))"
   ]
  },
  {
   "cell_type": "code",
   "execution_count": null,
   "metadata": {
    "collapsed": true
   },
   "outputs": [],
   "source": []
  }
 ],
 "metadata": {
  "kernelspec": {
   "display_name": "Python 2",
   "language": "python",
   "name": "python2"
  },
  "language_info": {
   "codemirror_mode": {
    "name": "ipython",
    "version": 2
   },
   "file_extension": ".py",
   "mimetype": "text/x-python",
   "name": "python",
   "nbconvert_exporter": "python",
   "pygments_lexer": "ipython2",
   "version": "2.7.14"
  }
 },
 "nbformat": 4,
 "nbformat_minor": 2
}
